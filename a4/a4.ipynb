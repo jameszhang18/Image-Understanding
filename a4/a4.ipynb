{
 "cells": [
  {
   "cell_type": "code",
   "execution_count": 62,
   "metadata": {},
   "outputs": [],
   "source": [
    "import cv2\n",
    "import numpy as np\n",
    "import sys\n",
    "import pickle\n",
    "import math"
   ]
  },
  {
   "cell_type": "code",
   "execution_count": 44,
   "metadata": {},
   "outputs": [],
   "source": [
    "def readCalib(path):\n",
    "    file = open(path,\"r\")\n",
    "    line = file.readlines()\n",
    "    f = float(line[0].strip(\"\\n\").split(\":\")[1])\n",
    "    baseline = float(line[3].strip(\"\\n\").split(\":\")[1])\n",
    "    px= float(line[1].strip(\"\\n\").split(\":\")[1])\n",
    "    py = float(line[2].strip(\"\\n\").split(\":\")[1])\n",
    "    return f, baseline, px, py"
   ]
  },
  {
   "cell_type": "code",
   "execution_count": 45,
   "metadata": {},
   "outputs": [],
   "source": [
    "def getDepth(path,f,baseline):\n",
    "    img = cv2.imread(path)\n",
    "    Z = f*baseline/img\n",
    "    return Z\n",
    "    "
   ]
  },
  {
   "cell_type": "code",
   "execution_count": 138,
   "metadata": {},
   "outputs": [
    {
     "name": "stderr",
     "output_type": "stream",
     "text": [
      "C:\\Users\\zhang\\Anaconda3\\envs\\python3\\lib\\site-packages\\ipykernel_launcher.py:3: RuntimeWarning: divide by zero encountered in true_divide\n",
      "  This is separate from the ipykernel package so we can avoid doing imports until\n"
     ]
    },
    {
     "data": {
      "text/plain": [
       "True"
      ]
     },
     "execution_count": 138,
     "metadata": {},
     "output_type": "execute_result"
    }
   ],
   "source": [
    "f,baseline,px,py = readCalib(\"data/data/test/calib/004945_allcalib.txt\")\n",
    "Z = getDepth(\"data/data/test/results/004945_left_disparity.png\",f,baseline)\n",
    "cv2.imwrite(\"result/4945depth.png\",Z)\n",
    "\n",
    "f2,baseline2,px2,py2 = readCalib(\"data/data/test/calib/004964_allcalib.txt\")\n",
    "Z2 = getDepth(\"data/data/test/results/004964_left_disparity.png\",f2,baseline2)\n",
    "cv2.imwrite(\"result/4964depth.png\",Z2)\n",
    "\n",
    "f3,baseline3,px3,py3 = readCalib(\"data/data/test/calib/005002_allcalib.txt\")\n",
    "Z3 = getDepth(\"data/data/test/results/005002_left_disparity.png\",f3,baseline3)\n",
    "cv2.imwrite(\"result/5002depth.png\",Z3)"
   ]
  },
  {
   "cell_type": "code",
   "execution_count": 169,
   "metadata": {},
   "outputs": [],
   "source": [
    "def parseData(input_path,output_path):    \n",
    "    obj = pickle.load(open(input_path, \"rb\"))\n",
    "    filtered_obj = {}\n",
    "    score_list = []\n",
    "    box_list = []\n",
    "    class_list = []\n",
    "    num_detection = 0\n",
    "    for i in range(len(obj[\"detection_scores\"])):\n",
    "        if obj[\"detection_scores\"][i] > 0.5:\n",
    "            score_list.append(obj[\"detection_scores\"][i])\n",
    "            box_list.append(obj[\"detection_boxes\"][i])\n",
    "            class_list.append(obj[\"detection_classes\"][i])\n",
    "            num_detection += 1\n",
    "    filtered_obj[\"num_detection\"] = num_detection\n",
    "    filtered_obj[\"detection_scores\"] = score_list\n",
    "    filtered_obj[\"detection_boxes\"] = box_list\n",
    "    filtered_obj[\"detection_classes\"] = class_list\n",
    "    f = open(output_path,\"wb\")\n",
    "    pickle.dump(filtered_obj,f)\n",
    "    f.close()\n",
    "    return filtered_obj\n",
    "\n"
   ]
  },
  {
   "cell_type": "code",
   "execution_count": 113,
   "metadata": {},
   "outputs": [],
   "source": [
    "def visualize(obj,input_img_path):\n",
    "    img = cv2.imread(input_img_path)\n",
    "    w,h = img.shape[:2]\n",
    "    for i in range(int(obj[\"num_detection\"])):\n",
    "        xmin = int(obj[\"detection_boxes\"][i][1]*h)\n",
    "        xmax = int(obj[\"detection_boxes\"][i][3]*h)\n",
    "        ymin = int(obj[\"detection_boxes\"][i][0]*w)\n",
    "        ymax = int(obj[\"detection_boxes\"][i][2]*w)\n",
    "        if int(obj[\"detection_classes\"][i]) == 1:\n",
    "            color = (255,0,0)\n",
    "            label = \"person\"\n",
    "        elif int(obj[\"detection_classes\"][i]) == 2:\n",
    "            color = (0,255,0)\n",
    "            label = \"bike\"\n",
    "        elif int(obj[\"detection_classes\"][i]) == 3:\n",
    "            color = (0,0,255)\n",
    "            label = \"car\"\n",
    "        elif int(obj[\"detection_classes\"][i]) == 10:\n",
    "            color = (255,255,0)   \n",
    "            label = \"traffic_light\"\n",
    "        else:\n",
    "            continue\n",
    "        \n",
    "        cv2.line(img,(xmin,ymin),(xmax,ymin),color,3)\n",
    "        cv2.line(img,(xmin,ymin),(xmin,ymax),color,3)\n",
    "        cv2.line(img,(xmax,ymin),(xmax,ymax),color,3)\n",
    "        cv2.line(img,(xmin,ymax),(xmax,ymax),color,3)\n",
    "        cv2.putText(img,label,(xmin,ymin),cv2.FONT_HERSHEY_SIMPLEX,0.8,color,1)\n",
    "    return img  "
   ]
  },
  {
   "cell_type": "code",
   "execution_count": 161,
   "metadata": {},
   "outputs": [
    {
     "data": {
      "text/plain": [
       "True"
      ]
     },
     "execution_count": 161,
     "metadata": {},
     "output_type": "execute_result"
    }
   ],
   "source": [
    "filtered_obj = parseData(\"result.pkl\",\"./result/parsedResult004964.pkl\")\n",
    "output_img = visualize(filtered_obj,\"./data/data/test/left/004964.jpg\")\n",
    "cv2.imwrite(\"./result/output004964.jpg\",output_img)\n",
    "\n",
    "filtered_obj2 = parseData(\"4945.pkl\",\"./result/parsedResult004945.pkl\")\n",
    "output_img2 = visualize(filtered_obj2,\"./data/data/test/left/004945.jpg\")\n",
    "cv2.imwrite(\"./result/output004945.jpg\",output_img2)\n",
    "\n",
    "filtered_obj3 = parseData(\"5002.pkl\",\"./result/parsedResult005002.pkl\")\n",
    "output_img3 = visualize(filtered_obj3,\"./data/data/test/left/005002.jpg\")\n",
    "cv2.imwrite(\"./result/output005002.jpg\",output_img3)\n",
    "\n",
    "\n"
   ]
  },
  {
   "cell_type": "code",
   "execution_count": 165,
   "metadata": {},
   "outputs": [],
   "source": [
    "def segmentation(path,obj,Z,px,py,f):\n",
    "    img = cv2.imread(path)\n",
    "    w,h = img.shape[:2]\n",
    "    segmentation = np.zeros(img.shape)\n",
    "    for i in range(int(obj[\"num_detection\"])):\n",
    "        top_left = (int(obj[\"detection_boxes\"][i][1]*h),int(obj[\"detection_boxes\"][i][0]*w))\n",
    "        bottom_right = (int(obj[\"detection_boxes\"][i][3]*h),int(obj[\"detection_boxes\"][i][2]*w))\n",
    "        \n",
    "        center = obj[\"center_of_mass\"][i]\n",
    "        for m in range(top_left[0],bottom_right[0]+1):\n",
    "            for n in range(top_left[1],bottom_right[1]+1):\n",
    "                \n",
    "                subZ = Z[n,m,0]\n",
    "                X = (m-px)*subZ/f\n",
    "                Y = (n-py)*subZ/f\n",
    "                dist = math.sqrt((center[0]-X)**2+(center[1]-Y)**2+(center[2]-subZ)**2)\n",
    "                if dist < 3.0:\n",
    "                    segmentation[n,m] = (255,0,0)\n",
    "\n",
    "    return segmentation"
   ]
  },
  {
   "cell_type": "code",
   "execution_count": 136,
   "metadata": {},
   "outputs": [],
   "source": [
    "def compute3D(path,obj,Z,px,py,f):\n",
    "    img = cv2.imread(path)\n",
    "    w,h = img.shape[:2]\n",
    "    location_list = []\n",
    "    for i in range(int(obj[\"num_detection\"])):\n",
    "        top_left = (int(obj[\"detection_boxes\"][i][1]*h),int(obj[\"detection_boxes\"][i][0]*w))\n",
    "        bottom_right = (int(obj[\"detection_boxes\"][i][3]*h),int(obj[\"detection_boxes\"][i][2]*w))\n",
    "        center = ((top_left[0]+bottom_right[0])/2,(top_left[1]+bottom_right[1])/2)\n",
    "        subZ = Z[int(center[1]),int(center[0]),0]\n",
    "        X = (center[0]-px)*subZ/f\n",
    "        Y = (center[1]-py)*subZ/f\n",
    "        location = (X,Y,subZ)\n",
    "        print(location)\n",
    "        location_list.append(location)\n",
    "    obj[\"center_of_mass\"] =location_list\n",
    "    return obj\n",
    "\n"
   ]
  },
  {
   "cell_type": "code",
   "execution_count": 160,
   "metadata": {},
   "outputs": [],
   "source": [
    "def alarm(path,obj,Z,px,py,f):\n",
    "    img = cv2.imread(path)\n",
    "    w,h = img.shape[:2]\n",
    "    dist_list = []\n",
    "    for i in range(int(obj[\"num_detection\"])):\n",
    "        top_left = (int(obj[\"detection_boxes\"][i][1]*h),int(obj[\"detection_boxes\"][i][0]*w))\n",
    "        bottom_right = (int(obj[\"detection_boxes\"][i][3]*h),int(obj[\"detection_boxes\"][i][2]*w))\n",
    "        segmentation = np.zeros(img.shape)\n",
    "        center = obj[\"center_of_mass\"][i]\n",
    "        dist = math.sqrt(center[0]**2+center[1]**2+center[2]**2)\n",
    "        dist_list.append((dist,i))\n",
    "        \n",
    "    dist_list.sort(key=lambda x:x[0])\n",
    "    for j in range(len(dist_list)):\n",
    "        idx = dist_list[j][1]\n",
    "        label_int = int(obj[\"detection_classes\"][idx])\n",
    "        if label_int == 1:\n",
    "            color = (255,0,0)\n",
    "            label = \"person\"\n",
    "        elif label_int == 2:\n",
    "            color = (0,255,0)\n",
    "            label = \"bike\"\n",
    "        elif label_int == 3:\n",
    "            color = (0,0,255)\n",
    "            label = \"car\"\n",
    "        elif label_int == 10:\n",
    "            color = (255,255,0)   \n",
    "            label = \"traffic_light\"\n",
    "        else:\n",
    "            continue\n",
    "            \n",
    "        X = obj[\"center_of_mass\"][idx][0]\n",
    "        if X >= 0:\n",
    "            txt = \"right\"\n",
    "        elif X < 0:\n",
    "            txt = \"left\"\n",
    "        print(\"There is a \"+ str(label) + \" \"+ str(X) + \" meters to your \"+ txt + \"\\n\")\n",
    "        print(\"It is \" + str(dist_list[j][0]) + \" meters away from you \\n\")"
   ]
  },
  {
   "cell_type": "code",
   "execution_count": 166,
   "metadata": {},
   "outputs": [
    {
     "name": "stdout",
     "output_type": "stream",
     "text": [
      "(-4.321284586755568, 1.0809790459209585, 76.87434797378314)\n",
      "(3.7261117000201955, 0.781924254764072, 34.9428854426287)\n",
      "(12.782829875673011, 0.23386053674319945, 27.45512427635112)\n",
      "(1.7704414597703593, 1.1671718360007988, 64.06195664481929)\n",
      "(-33.87686510909631, 2.365773675800799, 64.06195664481929)\n",
      "(-5.328492758320775, -1.085203683130226, 16.711814776909378)\n",
      "There is a traffic_light -5.328492758320775 meters to your left\n",
      "\n",
      "It is 17.574278228339363 meters away from you \n",
      "\n",
      "There is a car 12.782829875673011 meters to your right\n",
      "\n",
      "It is 30.285958452902378 meters away from you \n",
      "\n",
      "There is a car 3.7261117000201955 meters to your right\n",
      "\n",
      "It is 35.14968786487141 meters away from you \n",
      "\n",
      "There is a car 1.7704414597703593 meters to your right\n",
      "\n",
      "It is 64.09704394291467 meters away from you \n",
      "\n",
      "There is a car -33.87686510909631 meters to your left\n",
      "\n",
      "It is 72.50636636784198 meters away from you \n",
      "\n",
      "There is a car -4.321284586755568 meters to your left\n",
      "\n",
      "It is 77.00329468647266 meters away from you \n",
      "\n"
     ]
    },
    {
     "name": "stderr",
     "output_type": "stream",
     "text": [
      "C:\\Users\\zhang\\Anaconda3\\envs\\python3\\lib\\site-packages\\ipykernel_launcher.py:3: RuntimeWarning: divide by zero encountered in true_divide\n",
      "  This is separate from the ipykernel package so we can avoid doing imports until\n"
     ]
    }
   ],
   "source": [
    "f,baseline,px,py = readCalib(\"data/data/test/calib/004964_allcalib.txt\")\n",
    "Z = getDepth(\"data/data/test/results/004964_left_disparity.png\",f,baseline)\n",
    "filtered_obj = parseData(\"result.pkl\",\"./result/parsedResult004964.pkl\")\n",
    "\n",
    "new_obj = compute3D(\"./data/data/test/left/004964.jpg\",filtered_obj,Z,px,py,f)\n",
    "seg = segmentation(\"./data/data/test/left/004964.jpg\",new_obj,Z,px,py,f)\n",
    "cv2.imwrite('./result/seg004964.jpg',seg)\n",
    "\n",
    "alarm(\"./data/data/test/left/004964.jpg\",new_obj,Z,px,py,f)\n",
    "\n"
   ]
  },
  {
   "cell_type": "code",
   "execution_count": 167,
   "metadata": {},
   "outputs": [
    {
     "name": "stderr",
     "output_type": "stream",
     "text": [
      "C:\\Users\\zhang\\Anaconda3\\envs\\python3\\lib\\site-packages\\ipykernel_launcher.py:3: RuntimeWarning: divide by zero encountered in true_divide\n",
      "  This is separate from the ipykernel package so we can avoid doing imports until\n"
     ]
    },
    {
     "name": "stdout",
     "output_type": "stream",
     "text": [
      "(3.214732894946824, 0.8242385318357998, 6.86378106908778)\n",
      "(9.851221955627768, 0.609022912600599, 48.046467483614464)\n",
      "(0.6852553914853765, -4.299658164694485, 20.230091572048195)\n",
      "(-3.140591338197538, 0.7781145573338658, 42.70797109654619)\n",
      "(-10.49171482542223, 1.041851354750599, 48.046467483614464)\n",
      "(-32.235389655875565, 2.1996740964009582, 76.87434797378314)\n",
      "There is a car 3.214732894946824 meters to your right\n",
      "\n",
      "It is 7.623999429930712 meters away from you \n",
      "\n",
      "There is a traffic_light 0.6852553914853765 meters to your right\n",
      "\n",
      "It is 20.69331390324515 meters away from you \n",
      "\n",
      "There is a car -3.140591338197538 meters to your left\n",
      "\n",
      "It is 42.830358058289924 meters away from you \n",
      "\n",
      "There is a car 9.851221955627768 meters to your right\n",
      "\n",
      "It is 49.04977594832761 meters away from you \n",
      "\n",
      "There is a person -10.49171482542223 meters to your left\n",
      "\n",
      "It is 49.18967952606931 meters away from you \n",
      "\n",
      "There is a car -32.235389655875565 meters to your left\n",
      "\n",
      "It is 83.38839420921117 meters away from you \n",
      "\n"
     ]
    }
   ],
   "source": [
    "f,baseline,px,py = readCalib(\"data/data/test/calib/004945_allcalib.txt\")\n",
    "Z = getDepth(\"data/data/test/results/004945_left_disparity.png\",f,baseline)\n",
    "filtered_obj = parseData(\"4945.pkl\",\"./result/parsedResult004945.pkl\")\n",
    "\n",
    "new_obj = compute3D(\"./data/data/test/left/004945.jpg\",filtered_obj,Z,px,py,f)\n",
    "seg = segmentation(\"./data/data/test/left/004945.jpg\",new_obj,Z,px,py,f)\n",
    "cv2.imwrite('./result/seg004945.jpg',seg)\n",
    "\n",
    "alarm(\"./data/data/test/left/004945.jpg\",new_obj,Z,px,py,f)"
   ]
  },
  {
   "cell_type": "code",
   "execution_count": 168,
   "metadata": {},
   "outputs": [
    {
     "name": "stderr",
     "output_type": "stream",
     "text": [
      "C:\\Users\\zhang\\Anaconda3\\envs\\python3\\lib\\site-packages\\ipykernel_launcher.py:3: RuntimeWarning: divide by zero encountered in true_divide\n",
      "  This is separate from the ipykernel package so we can avoid doing imports until\n"
     ]
    },
    {
     "name": "stdout",
     "output_type": "stream",
     "text": [
      "(-1.7067841599851894, 0.9463094703203194, 25.624782657927714)\n",
      "(-6.585583032663113, 1.1004976109921918, 15.374869594756628)\n",
      "(13.189457769458196, 0.46031384095260913, 18.30341618423408)\n",
      "(4.874785482770046, -1.405363552339026, 8.355907388454689)\n",
      "There is a traffic_light 4.874785482770046 meters to your right\n",
      "\n",
      "It is 9.775467687108389 meters away from you \n",
      "\n",
      "There is a car -6.585583032663113 meters to your left\n",
      "\n",
      "It is 16.762088590855008 meters away from you \n",
      "\n",
      "There is a car 13.189457769458196 meters to your right\n",
      "\n",
      "It is 22.565210592808032 meters away from you \n",
      "\n",
      "There is a car -1.7067841599851894 meters to your left\n",
      "\n",
      "It is 25.69899025347936 meters away from you \n",
      "\n"
     ]
    }
   ],
   "source": [
    "f,baseline,px,py = readCalib(\"data/data/test/calib/005002_allcalib.txt\")\n",
    "Z = getDepth(\"data/data/test/results/005002_left_disparity.png\",f,baseline)\n",
    "filtered_obj = parseData(\"5002.pkl\",\"./result/parsedResult005002.pkl\")\n",
    "\n",
    "new_obj = compute3D(\"./data/data/test/left/005002.jpg\",filtered_obj,Z,px,py,f)\n",
    "seg = segmentation(\"./data/data/test/left/005002.jpg\",new_obj,Z,px,py,f)\n",
    "cv2.imwrite('./result/seg005002.jpg',seg)\n",
    "\n",
    "alarm(\"./data/data/test/left/005002.jpg\",new_obj,Z,px,py,f)"
   ]
  },
  {
   "cell_type": "code",
   "execution_count": null,
   "metadata": {},
   "outputs": [],
   "source": []
  },
  {
   "cell_type": "code",
   "execution_count": null,
   "metadata": {},
   "outputs": [],
   "source": []
  }
 ],
 "metadata": {
  "kernelspec": {
   "display_name": "Python 3",
   "language": "python",
   "name": "python3"
  },
  "language_info": {
   "codemirror_mode": {
    "name": "ipython",
    "version": 3
   },
   "file_extension": ".py",
   "mimetype": "text/x-python",
   "name": "python",
   "nbconvert_exporter": "python",
   "pygments_lexer": "ipython3",
   "version": "3.6.7"
  }
 },
 "nbformat": 4,
 "nbformat_minor": 2
}
